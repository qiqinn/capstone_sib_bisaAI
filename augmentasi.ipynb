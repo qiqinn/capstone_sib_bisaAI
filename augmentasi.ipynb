{
 "cells": [
  {
   "cell_type": "code",
   "execution_count": 1,
   "id": "f428a837-6eaa-49e8-8d4b-f727fb2698cd",
   "metadata": {},
   "outputs": [],
   "source": [
    "import numpy as np\n",
    "import pandas as pd\n",
    "import matplotlib.pyplot as plt\n",
    "import cv2\n",
    "import glob\n",
    "import datetime\n",
    "import random\n",
    "from tqdm.notebook import tqdm\n",
    "from PIL import Image\n",
    "from PIL import ImageEnhance\n",
    "np.random.seed(1) #to have reproducible results \n",
    "pd.set_option('display.max_colwidth', None)"
   ]
  },
  {
   "cell_type": "markdown",
   "id": "48242a43-c227-495f-ab0e-690730d2fd5f",
   "metadata": {},
   "source": [
    "# Data train"
   ]
  },
  {
   "cell_type": "code",
   "execution_count": 23,
   "id": "5bd5745a-2219-4059-a787-84605b4e8b3b",
   "metadata": {},
   "outputs": [],
   "source": [
    "from PIL import Image\n",
    "from PIL import ImageFilter\n",
    "import os\n",
    "\n",
    "base_in_dir = \"dataset/train\"\n",
    "base_out_dir = \"dataset_baru/train\"\n",
    "\n",
    "\n",
    "\n",
    "for i in os.listdir(base_in_dir):\n",
    "    path = os.path.join(base_out_dir, i)\n",
    "    mode = 0o666\n",
    "    os.mkdir(path, mode)\n",
    "    inPath = os.path.join(base_in_dir, i)\n",
    "    outPath = os.path.join(base_out_dir, i)\n",
    "    for imagePath in os.listdir(inPath):\n",
    "        inputPath = os.path.join(inPath, imagePath)\n",
    "        img = Image.open(inputPath)\n",
    "        fullOutPath = os.path.join(outPath, 'r90_'+imagePath)\n",
    "        img.rotate(90).save(fullOutPath)\n",
    "        "
   ]
  },
  {
   "cell_type": "code",
   "execution_count": 24,
   "id": "87544a03-5fcc-4a4c-b6e6-77ddf04c5500",
   "metadata": {},
   "outputs": [],
   "source": [
    "base_in_dir = \"dataset/train\"\n",
    "base_out_dir = \"dataset_baru/train\"\n",
    "\n",
    "\n",
    "\n",
    "for i in os.listdir(base_in_dir):\n",
    "    path = os.path.join(base_out_dir, i)\n",
    "    mode = 0o666\n",
    "    # os.mkdir(path, mode)\n",
    "    inPath = os.path.join(base_in_dir, i)\n",
    "    outPath = os.path.join(base_out_dir, i)\n",
    "    for imagePath in os.listdir(inPath):\n",
    "        inputPath = os.path.join(inPath, imagePath)\n",
    "        img = Image.open(inputPath)\n",
    "        fullOutPath = os.path.join(outPath, 'z'+imagePath)\n",
    "        img.resize((800, 900),Image.BILINEAR).save(fullOutPath)\n",
    "        "
   ]
  },
  {
   "cell_type": "markdown",
   "id": "5117f8bc-5bec-45fb-8d92-461628c7c142",
   "metadata": {},
   "source": [
    "# Data Val"
   ]
  },
  {
   "cell_type": "code",
   "execution_count": 26,
   "id": "f4d9bdb0-04e4-4f4a-b652-a8669b942270",
   "metadata": {},
   "outputs": [],
   "source": [
    "from PIL import Image\n",
    "from PIL import ImageFilter\n",
    "import os\n",
    "\n",
    "base_in_dir = \"dataset/val\"\n",
    "base_out_dir = \"dataset_baru/val\"\n",
    "\n",
    "\n",
    "\n",
    "for i in os.listdir(base_in_dir):\n",
    "    path = os.path.join(base_out_dir, i)\n",
    "    mode = 0o666\n",
    "    os.mkdir(path, mode)\n",
    "    inPath = os.path.join(base_in_dir, i)\n",
    "    outPath = os.path.join(base_out_dir, i)\n",
    "    for imagePath in os.listdir(inPath):\n",
    "        inputPath = os.path.join(inPath, imagePath)\n",
    "        img = Image.open(inputPath)\n",
    "        fullOutPath = os.path.join(outPath, 'r90_'+imagePath)\n",
    "        img.rotate(90).save(fullOutPath)\n",
    "        "
   ]
  },
  {
   "cell_type": "code",
   "execution_count": 27,
   "id": "c40696cd-61d6-4f69-b603-9f1659895b45",
   "metadata": {},
   "outputs": [],
   "source": [
    "base_in_dir = \"dataset/val\"\n",
    "base_out_dir = \"dataset_baru/val\"\n",
    "\n",
    "\n",
    "\n",
    "for i in os.listdir(base_in_dir):\n",
    "    path = os.path.join(base_out_dir, i)\n",
    "    mode = 0o666\n",
    "    # os.mkdir(path, mode)\n",
    "    inPath = os.path.join(base_in_dir, i)\n",
    "    outPath = os.path.join(base_out_dir, i)\n",
    "    for imagePath in os.listdir(inPath):\n",
    "        inputPath = os.path.join(inPath, imagePath)\n",
    "        img = Image.open(inputPath)\n",
    "        fullOutPath = os.path.join(outPath, 'z'+imagePath)\n",
    "        img.resize((800, 900),Image.BILINEAR).save(fullOutPath)\n",
    "        "
   ]
  },
  {
   "cell_type": "markdown",
   "id": "9c89888f-ce4c-45bc-9361-882a57468bf8",
   "metadata": {},
   "source": [
    "# Data Test"
   ]
  },
  {
   "cell_type": "code",
   "execution_count": 28,
   "id": "c9cc916b-c6d9-4845-9159-83d5c48e892b",
   "metadata": {},
   "outputs": [],
   "source": [
    "from PIL import Image\n",
    "from PIL import ImageFilter\n",
    "import os\n",
    "\n",
    "base_in_dir = \"dataset/test\"\n",
    "base_out_dir = \"dataset_baru/test\"\n",
    "\n",
    "\n",
    "\n",
    "for i in os.listdir(base_in_dir):\n",
    "    path = os.path.join(base_out_dir, i)\n",
    "    mode = 0o666\n",
    "    os.mkdir(path, mode)\n",
    "    inPath = os.path.join(base_in_dir, i)\n",
    "    outPath = os.path.join(base_out_dir, i)\n",
    "    for imagePath in os.listdir(inPath):\n",
    "        inputPath = os.path.join(inPath, imagePath)\n",
    "        img = Image.open(inputPath)\n",
    "        fullOutPath = os.path.join(outPath, 'r90_'+imagePath)\n",
    "        img.rotate(90).save(fullOutPath)\n",
    "        "
   ]
  },
  {
   "cell_type": "code",
   "execution_count": 29,
   "id": "2dda3b26-f596-4266-84c7-cda3a695a4f7",
   "metadata": {},
   "outputs": [],
   "source": [
    "base_in_dir = \"dataset/test\"\n",
    "base_out_dir = \"dataset_baru/test\"\n",
    "\n",
    "\n",
    "for i in os.listdir(base_in_dir):\n",
    "    path = os.path.join(base_out_dir, i)\n",
    "    mode = 0o666\n",
    "    # os.mkdir(path, mode)\n",
    "    inPath = os.path.join(base_in_dir, i)\n",
    "    outPath = os.path.join(base_out_dir, i)\n",
    "    for imagePath in os.listdir(inPath):\n",
    "        inputPath = os.path.join(inPath, imagePath)\n",
    "        img = Image.open(inputPath)\n",
    "        fullOutPath = os.path.join(outPath, 'z'+imagePath)\n",
    "        img.resize((800, 900),Image.BILINEAR).save(fullOutPath)\n",
    "        "
   ]
  },
  {
   "cell_type": "code",
   "execution_count": null,
   "id": "e12d9fae-a48e-4697-9ec6-6cc364a2451c",
   "metadata": {},
   "outputs": [],
   "source": []
  }
 ],
 "metadata": {
  "kernelspec": {
   "display_name": "Python 3 (ipykernel)",
   "language": "python",
   "name": "python3"
  },
  "language_info": {
   "codemirror_mode": {
    "name": "ipython",
    "version": 3
   },
   "file_extension": ".py",
   "mimetype": "text/x-python",
   "name": "python",
   "nbconvert_exporter": "python",
   "pygments_lexer": "ipython3",
   "version": "3.9.7"
  }
 },
 "nbformat": 4,
 "nbformat_minor": 5
}
